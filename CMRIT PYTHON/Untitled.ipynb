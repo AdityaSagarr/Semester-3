{
 "cells": [
  {
   "cell_type": "markdown",
   "metadata": {},
   "source": [
    "# -------------------------------- NAME - ADITYA SAGAR---------------------------------------------\n",
    "# -------------------------------- USN    - 1CR22MC003    -------------------------------------------"
   ]
  },
  {
   "cell_type": "markdown",
   "metadata": {},
   "source": [
    "## 1.\tArithmetic Operations"
   ]
  },
  {
   "cell_type": "code",
   "execution_count": 1,
   "metadata": {},
   "outputs": [
    {
     "name": "stdout",
     "output_type": "stream",
     "text": [
      "Hello, Alice\n"
     ]
    }
   ],
   "source": [
    "# Define a simple function\n",
    "def greet(name):\n",
    "    print(\"Hello, \" + name)\n",
    "\n",
    "# Call the function\n",
    "greet(\"Alice\")\n"
   ]
  },
  {
   "cell_type": "markdown",
   "metadata": {},
   "source": [
    "## 2.\tBuilt-in Functions"
   ]
  },
  {
   "cell_type": "code",
   "execution_count": 2,
   "metadata": {},
   "outputs": [
    {
     "name": "stdout",
     "output_type": "stream",
     "text": [
      "Positive\n",
      "Iteration 1\n",
      "Iteration 2\n",
      "Iteration 3\n",
      "Iteration 4\n",
      "Iteration 5\n"
     ]
    }
   ],
   "source": [
    "# Example of control flow with if-else statement\n",
    "num = 10\n",
    "if num > 0:\n",
    "    print(\"Positive\")\n",
    "elif num == 0:\n",
    "    print(\"Zero\")\n",
    "else:\n",
    "    print(\"Negative\")\n",
    "\n",
    "# Example of a for loop\n",
    "for i in range(1, 6):\n",
    "    print(\"Iteration\", i)\n"
   ]
  },
  {
   "cell_type": "markdown",
   "metadata": {},
   "source": [
    "## 3.\tLoops"
   ]
  },
  {
   "cell_type": "code",
   "execution_count": 3,
   "metadata": {
    "scrolled": true
   },
   "outputs": [
    {
     "name": "stdout",
     "output_type": "stream",
     "text": [
      "List: [1, 2, 3, 4, 5]\n",
      "Tuple: (1, 2, 3, 4, 5)\n",
      "Dictionary: {'a': 1, 'b': 2, 'c': 3}\n"
     ]
    }
   ],
   "source": [
    "# List example\n",
    "my_list = [1, 2, 3, 4, 5]\n",
    "print(\"List:\", my_list)\n",
    "\n",
    "# Tuple example\n",
    "my_tuple = (1, 2, 3, 4, 5)\n",
    "print(\"Tuple:\", my_tuple)\n",
    "\n",
    "# Dictionary example\n",
    "my_dict = {'a': 1, 'b': 2, 'c': 3}\n",
    "print(\"Dictionary:\", my_dict)\n"
   ]
  },
  {
   "cell_type": "markdown",
   "metadata": {},
   "source": [
    "## 4.\tData Types"
   ]
  },
  {
   "cell_type": "code",
   "execution_count": 4,
   "metadata": {
    "scrolled": true
   },
   "outputs": [
    {
     "name": "stdout",
     "output_type": "stream",
     "text": [
      "Length: 13\n",
      "First character: H\n",
      "Substring: World\n"
     ]
    }
   ],
   "source": [
    "# String operations\n",
    "my_string = \"Hello, World!\"\n",
    "\n",
    "# Length of the string\n",
    "print(\"Length:\", len(my_string))\n",
    "\n",
    "# Accessing characters\n",
    "print(\"First character:\", my_string[0])\n",
    "\n",
    "# Slicing\n",
    "print(\"Substring:\", my_string[7:12])\n"
   ]
  },
  {
   "cell_type": "markdown",
   "metadata": {},
   "source": [
    "## 5.\tStrings "
   ]
  },
  {
   "cell_type": "code",
   "execution_count": 5,
   "metadata": {},
   "outputs": [
    {
     "name": "stdout",
     "output_type": "stream",
     "text": [
      "Hello, my name is Alice and I am 30 years old.\n"
     ]
    }
   ],
   "source": [
    "# Define a class representing a person\n",
    "class Person:\n",
    "    def __init__(self, name, age):\n",
    "        self.name = name\n",
    "        self.age = age\n",
    "\n",
    "    def introduce(self):\n",
    "        print(\"Hello, my name is\", self.name, \"and I am\", self.age, \"years old.\")\n",
    "\n",
    "# Create an object of the Person class\n",
    "person = Person(\"Alice\", 30)\n",
    "person.introduce()\n"
   ]
  },
  {
   "cell_type": "markdown",
   "metadata": {},
   "source": [
    "## 6.\tClasses and Objects"
   ]
  },
  {
   "cell_type": "code",
   "execution_count": 6,
   "metadata": {},
   "outputs": [
    {
     "name": "stdout",
     "output_type": "stream",
     "text": [
      "Area of circle with radius 5: 78.5\n"
     ]
    }
   ],
   "source": [
    "# Define your specific functions here\n",
    "# For example:\n",
    "def calculate_area(radius):\n",
    "    return 3.14 * radius**2\n",
    "\n",
    "# Call the function\n",
    "print(\"Area of circle with radius 5:\", calculate_area(5))\n"
   ]
  },
  {
   "cell_type": "markdown",
   "metadata": {},
   "source": [
    "## 7.\tBuilt-in Modules"
   ]
  },
  {
   "cell_type": "code",
   "execution_count": 7,
   "metadata": {},
   "outputs": [
    {
     "name": "stdout",
     "output_type": "stream",
     "text": [
      "Generic Animal makes a sound\n",
      "Buddy says woof\n",
      "Breed: Labrador\n"
     ]
    }
   ],
   "source": [
    "# Parent class\n",
    "class Animal:\n",
    "    def __init__(self, name):\n",
    "        self.name = name\n",
    "\n",
    "    def speak(self):\n",
    "        print(self.name, \"makes a sound\")\n",
    "\n",
    "# Child class inheriting from Animal\n",
    "class Dog(Animal):\n",
    "    def __init__(self, name, breed):\n",
    "        super().__init__(name)\n",
    "        self.breed = breed\n",
    "\n",
    "    def speak(self):\n",
    "        print(self.name, \"says woof\")\n",
    "\n",
    "# Create instances and call methods\n",
    "animal = Animal(\"Generic Animal\")\n",
    "animal.speak()\n",
    "\n",
    "dog = Dog(\"Buddy\", \"Labrador\")\n",
    "dog.speak()\n",
    "print(\"Breed:\", dog.breed)\n"
   ]
  },
  {
   "cell_type": "markdown",
   "metadata": {},
   "source": [
    "## 8.\tConstructors and Inheritance"
   ]
  },
  {
   "cell_type": "code",
   "execution_count": 8,
   "metadata": {},
   "outputs": [
    {
     "name": "stdout",
     "output_type": "stream",
     "text": [
      "File content: Hello, World!\n"
     ]
    }
   ],
   "source": [
    "# Writing to a file\n",
    "with open(\"example.txt\", \"w\") as file:\n",
    "    file.write(\"Hello, World!\")\n",
    "\n",
    "# Reading from a file\n",
    "with open(\"example.txt\", \"r\") as file:\n",
    "    content = file.read()\n",
    "    print(\"File content:\", content)\n"
   ]
  },
  {
   "cell_type": "markdown",
   "metadata": {},
   "source": [
    "## 9.\tFile Operators"
   ]
  },
  {
   "cell_type": "code",
   "execution_count": 9,
   "metadata": {},
   "outputs": [
    {
     "name": "stdout",
     "output_type": "stream",
     "text": [
      "Content successfully written to example.txt\n",
      "Content read from example.txt : Hello, World!\n",
      "Content successfully appended to example.txt\n",
      "Content read from example.txt : Hello, World!\n",
      "This is a new line.\n"
     ]
    }
   ],
   "source": [
    "# Writing to a file\n",
    "def write_to_file(filename, content):\n",
    "    try:\n",
    "        with open(filename, \"w\") as file:\n",
    "            file.write(content)\n",
    "            print(\"Content successfully written to\", filename)\n",
    "    except Exception as e:\n",
    "        print(\"Error occurred while writing to file:\", e)\n",
    "\n",
    "# Reading from a file\n",
    "def read_from_file(filename):\n",
    "    try:\n",
    "        with open(filename, \"r\") as file:\n",
    "            content = file.read()\n",
    "            print(\"Content read from\", filename, \":\", content)\n",
    "    except FileNotFoundError:\n",
    "        print(\"File not found:\", filename)\n",
    "    except Exception as e:\n",
    "        print(\"Error occurred while reading from file:\", e)\n",
    "\n",
    "# Appending to a file\n",
    "def append_to_file(filename, content):\n",
    "    try:\n",
    "        with open(filename, \"a\") as file:\n",
    "            file.write(\"\\n\" + content)\n",
    "            print(\"Content successfully appended to\", filename)\n",
    "    except Exception as e:\n",
    "        print(\"Error occurred while appending to file:\", e)\n",
    "\n",
    "# Main function to demonstrate file operations\n",
    "def main():\n",
    "    filename = \"example.txt\"\n",
    "    \n",
    "    # Writing to the file\n",
    "    write_to_file(filename, \"Hello, World!\")\n",
    "\n",
    "    # Reading from the file\n",
    "    read_from_file(filename)\n",
    "\n",
    "    # Appending to the file\n",
    "    append_to_file(filename, \"This is a new line.\")\n",
    "\n",
    "    # Reading from the file again\n",
    "    read_from_file(filename)\n",
    "\n",
    "if __name__ == \"__main__\":\n",
    "    main()\n"
   ]
  }
 ],
 "metadata": {
  "kernelspec": {
   "display_name": "Python 3",
   "language": "python",
   "name": "python3"
  },
  "language_info": {
   "codemirror_mode": {
    "name": "ipython",
    "version": 3
   },
   "file_extension": ".py",
   "mimetype": "text/x-python",
   "name": "python",
   "nbconvert_exporter": "python",
   "pygments_lexer": "ipython3",
   "version": "3.8.5"
  }
 },
 "nbformat": 4,
 "nbformat_minor": 4
}
