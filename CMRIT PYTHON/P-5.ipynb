{
 "cells": [
  {
   "cell_type": "markdown",
   "metadata": {},
   "source": [
    "## 5-A0.Array Manipulation"
   ]
  },
  {
   "cell_type": "code",
   "execution_count": 8,
   "metadata": {},
   "outputs": [
    {
     "name": "stdout",
     "output_type": "stream",
     "text": [
      "==================================concatenation==============================\n",
      "concate with axis=0:\n",
      " [[1 2]\n",
      " [3 4]\n",
      " [5 6]]\n",
      "concate with axis=1:\n",
      " [[1 2 5]\n",
      " [3 4 6]]\n",
      "concate with axis=None:\n",
      " [1 2 3 4 5 6]\n",
      "====================================STACKING============================\n",
      "vertical stacking\n",
      "[[ 1  2  3]\n",
      " [11 12 13]]\n",
      "Horizontal stacking\n",
      "[[ 1  2  3 11 12 13]]\n",
      "====================================RESHAPING============================\n",
      "Reshaped\n",
      "[[ 1  2  3]\n",
      " [ 4  5  6]\n",
      " [ 7  8  9]\n",
      " [10 11 12]]\n"
     ]
    }
   ],
   "source": [
    "import numpy as np\n",
    "\n",
    "print(\"==================================concatenation==============================\")\n",
    "a=np.array([[1,2],[3,4]])\n",
    "b=np.array([[5,6]])\n",
    "\n",
    "print(\"concate with axis=0:\\n\",np.concatenate((a,b),axis=0))\n",
    "print(\"concate with axis=1:\\n\",np.concatenate((a,b.T),axis=1))\n",
    "print(\"concate with axis=None:\\n\",np.concatenate((a,b),axis=None))\n",
    "\n",
    "\n",
    "print(\"====================================STACKING============================\")\n",
    "a=np.array([[1,2,3]])\n",
    "b=np.array([[11,12,13]])\n",
    "\n",
    "print(\"vertical stacking\")\n",
    "print(np.vstack((a,b)))\n",
    "              \n",
    "print(\"Horizontal stacking\")\n",
    "print(np.hstack((a,b)))\n",
    "\n",
    "\n",
    "print(\"====================================RESHAPING============================\")\n",
    "b = np.array([1, 2, 3, 4, 5, 6, 7, 8, 9, 10, 11, 12])\n",
    "print(\"Reshaped\")\n",
    "print(b.reshape(4,3))"
   ]
  },
  {
   "cell_type": "markdown",
   "metadata": {},
   "source": [
    "### 5-A1.searching"
   ]
  },
  {
   "cell_type": "code",
   "execution_count": 11,
   "metadata": {},
   "outputs": [
    {
     "name": "stdout",
     "output_type": "stream",
     "text": [
      "(array([3, 5, 6], dtype=int64),)\n",
      "2\n"
     ]
    }
   ],
   "source": [
    "import numpy as np\n",
    "\n",
    "arr=np.array([1,2,3,4,5,4,4])\n",
    "x=np.where(arr==4)\n",
    "print(x)\n",
    "\n",
    "arr=np.array([6,7,9,10])\n",
    "x=np.searchsorted(arr,8)\n",
    "print(x)\n"
   ]
  },
  {
   "cell_type": "markdown",
   "metadata": {},
   "source": [
    "### 5-A2.Sorting"
   ]
  },
  {
   "cell_type": "code",
   "execution_count": 15,
   "metadata": {},
   "outputs": [
    {
     "name": "stdout",
     "output_type": "stream",
     "text": [
      "Original Array : \n",
      " [[1 4]\n",
      " [3 1]]\n",
      "Sorted array(axis=1//column-wise):\n",
      " [[1 4]\n",
      " [1 3]]\n",
      "Sorted array(axis=0//row-wise):\n",
      " [[1 1]\n",
      " [3 4]]\n",
      "\n",
      " Indices that would sort an array [1 2 0]\n",
      "\n",
      " Sorted complex number: [[1.-2.j 2.+2.j 3.+4.j 5.+1.j]]\n"
     ]
    }
   ],
   "source": [
    "#importing numpy packing\n",
    "import numpy as np\n",
    "a=np.array([[1,4],[3,1]])\n",
    "\n",
    "print(\"Original Array : \\n\",a)\n",
    "print(\"Sorted array(axis=1//column-wise):\\n\",np.sort(a,axis=1))\n",
    "print(\"Sorted array(axis=0//row-wise):\\n\",np.sort(a,axis=0))\n",
    "\n",
    "x=np.array([3,1,2])\n",
    "print(\"\\n Indices that would sort an array\",np.argsort(x))\n",
    "print(\"\\n Sorted complex number:\",np.sort_complex([[3+4j,1-2j,5+1j,2+2j]]))"
   ]
  },
  {
   "cell_type": "markdown",
   "metadata": {},
   "source": [
    "### 5-A3.Splitting"
   ]
  },
  {
   "cell_type": "code",
   "execution_count": 21,
   "metadata": {},
   "outputs": [
    {
     "name": "stdout",
     "output_type": "stream",
     "text": [
      "Original:\n",
      " [0. 1. 2. 3. 4. 5. 6. 7. 8.]\n",
      "By parts: \n",
      " [array([0., 1., 2.]), array([3., 4., 5.]), array([6., 7., 8.])]\n",
      "By elements:\n",
      " [array([0., 1., 2.]), array([3., 4.]), array([5.]), array([6., 7., 8.]), array([], dtype=float64)]\n",
      "=====================================================================================\n",
      "Original:\n",
      " [[ 1  3  5  7  9 11]\n",
      " [ 2  4  6  8 10 12]]\n",
      "Horizontal Split:\n",
      " [array([[1, 3, 5],\n",
      "       [2, 4, 6]]), array([[ 7,  9, 11],\n",
      "       [ 8, 10, 12]])]\n",
      "Vertical Split:\n",
      " [array([[ 1,  3,  5,  7,  9, 11]]), array([[ 2,  4,  6,  8, 10, 12]])]\n"
     ]
    }
   ],
   "source": [
    "import numpy as np\n",
    "\n",
    "x=np.arange(9.0)\n",
    "print(\"Original:\\n\",x)\n",
    "print(\"By parts: \\n\",np.split(x,3))\n",
    "print(\"By elements:\\n\",np.split(x,[3,5,6,10]))\n",
    "\n",
    "print(\"=====================================================================================\")\n",
    "a=np.array([[1,3,5,7,9,11],[2,4,6,8,10,12]])\n",
    "print(\"Original:\\n\",a)\n",
    "print(\"Horizontal Split:\\n\",np.hsplit(a,2))\n",
    "print(\"Vertical Split:\\n\",np.vsplit(a,2))"
   ]
  },
  {
   "cell_type": "markdown",
   "metadata": {},
   "source": [
    "### 5-B1.Broadcasting "
   ]
  },
  {
   "cell_type": "code",
   "execution_count": 40,
   "metadata": {},
   "outputs": [
    {
     "name": "stdout",
     "output_type": "stream",
     "text": [
      "a:\n",
      " [[0 1 2 3]\n",
      " [4 5 6 7]]\n",
      "b:\n",
      " [[0 1 2 3]]\n",
      "sum:\n",
      " [[ 0  2  4  6]\n",
      " [ 4  6  8 10]]\n"
     ]
    }
   ],
   "source": [
    "import numpy as np\n",
    "x=np.arange(8)\n",
    "a=x.reshape(2,4)\n",
    "\n",
    "y=np.arange(4)\n",
    "b=y.reshape(1,4)\n",
    "\n",
    "print(\"a:\\n\",a)\n",
    "print(\"b:\\n\",b)\n",
    "print(\"sum:\\n\",a+b)"
   ]
  },
  {
   "cell_type": "markdown",
   "metadata": {},
   "source": [
    "## 5-B2.Plotting"
   ]
  },
  {
   "cell_type": "code",
   "execution_count": 57,
   "metadata": {},
   "outputs": [
    {
     "data": {
      "image/png": "[encoded data removed]",
      "text/plain": [
       "<Figure size 432x288 with 1 Axes>"
      ]
     },
     "metadata": {
      "needs_background": "light"
     },
     "output_type": "display_data"
    }
   ],
   "source": [
    "import numpy as np\n",
    "import matplotlib.pyplot as plt\n",
    "\n",
    "x=np.arange(0,10,0.1)\n",
    "\n",
    "data1=np.sin(x)\n",
    "data2=np.cos(x)\n",
    "\n",
    "plt.plot(data1)\n",
    "plt.plot(data2)\n",
    "\n",
    "\n",
    "plt.xlabel('x label')\n",
    "plt.ylabel('y label')\n",
    "plt.legend(['Marker1','Marker2'])\n",
    "plt.title('Chart Tile')\n",
    "plt.show()"
   ]
  }
 ],
 "metadata": {
  "kernelspec": {
   "display_name": "Python 3",
   "language": "python",
   "name": "python3"
  },
  "language_info": {
   "codemirror_mode": {
    "name": "ipython",
    "version": 3
   },
   "file_extension": ".py",
   "mimetype": "text/x-python",
   "name": "python",
   "nbconvert_exporter": "python",
   "pygments_lexer": "ipython3",
   "version": "3.8.5"
  }
 },
 "nbformat": 4,
 "nbformat_minor": 5
}
