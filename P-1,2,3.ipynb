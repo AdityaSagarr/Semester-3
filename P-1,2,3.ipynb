{
 "cells": [
  {
   "cell_type": "markdown",
   "metadata": {},
   "source": [
    "## P1"
   ]
  },
  {
   "cell_type": "code",
   "execution_count": 1,
   "metadata": {},
   "outputs": [
    {
     "name": "stdout",
     "output_type": "stream",
     "text": [
      "Enter the element to be searched: 2\n",
      "Element found at index 0\n"
     ]
    }
   ],
   "source": [
    "def linear_search(array, n, x):\n",
    "    for i in range(0, n):\n",
    "        if array[i] == x:\n",
    "            return i\n",
    "    return -1\n",
    "\n",
    "array = [2, 4, 0, 1, 9]\n",
    "x = eval(input(\"Enter the element to be searched: \"))\n",
    "n = len(array)\n",
    "result = linear_search(array, n, x)\n",
    "\n",
    "if result == -1:\n",
    "    print(\"Element not found\")\n",
    "else:\n",
    "    print(\"Element found at index\", result)\n"
   ]
  },
  {
   "cell_type": "markdown",
   "metadata": {},
   "source": [
    "## P-2"
   ]
  },
  {
   "cell_type": "code",
   "execution_count": null,
   "metadata": {},
   "outputs": [],
   "source": [
    "import bisect\n",
    "\n",
    "def insert_into_sorted_list(my_list, new_element):\n",
    "    bisect.insort(my_list, new_element)\n",
    "    return my_list\n",
    "\n",
    "my_list = [1, 2, 4]\n",
    "new_element = eval(input(\"Enter the value to be inserted: \"))\n",
    "print(insert_into_sorted_list(my_list, new_element))\n"
   ]
  },
  {
   "cell_type": "markdown",
   "metadata": {},
   "source": [
    "## P-3"
   ]
  },
  {
   "cell_type": "code",
   "execution_count": 2,
   "metadata": {},
   "outputs": [
    {
     "name": "stdout",
     "output_type": "stream",
     "text": [
      "Buddy says Woof!\n",
      "Whiskers says Meow!\n"
     ]
    }
   ],
   "source": [
    "class Animal:\n",
    "    def __init__(self, name):\n",
    "        self.name = name\n",
    "\n",
    "    def speak(self):\n",
    "        pass\n",
    "\n",
    "class Dog(Animal):\n",
    "    def speak(self):\n",
    "        return f\"{self.name} says Woof!\"\n",
    "\n",
    "class Cat(Animal):\n",
    "    def speak(self):\n",
    "        return f\"{self.name} says Meow!\"\n",
    "\n",
    "# Example usage:\n",
    "dog = Dog(\"Buddy\")\n",
    "cat = Cat(\"Whiskers\")\n",
    "\n",
    "print(dog.speak())\n",
    "print(cat.speak())"
   ]
  }
 ],
 "metadata": {
  "kernelspec": {
   "display_name": "Python 3",
   "language": "python",
   "name": "python3"
  },
  "language_info": {
   "codemirror_mode": {
    "name": "ipython",
    "version": 3
   },
   "file_extension": ".py",
   "mimetype": "text/x-python",
   "name": "python",
   "nbconvert_exporter": "python",
   "pygments_lexer": "ipython3",
   "version": "3.8.5"
  }
 },
 "nbformat": 4,
 "nbformat_minor": 4
}
